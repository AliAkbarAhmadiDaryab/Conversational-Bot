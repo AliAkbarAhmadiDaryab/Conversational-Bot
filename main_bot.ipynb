{
 "cells": [
  {
   "cell_type": "code",
   "execution_count": 2,
   "metadata": {},
   "outputs": [],
   "source": [
    "import requests\n",
    "import time\n",
    "import argparse\n",
    "import os\n",
    "import json\n",
    "import dialogue_manager as dm\n",
    "from utils import *"
   ]
  },
  {
   "cell_type": "code",
   "execution_count": 3,
   "metadata": {},
   "outputs": [],
   "source": [
    "from requests.compat import urljoin"
   ]
  },
  {
   "cell_type": "code",
   "execution_count": 4,
   "metadata": {},
   "outputs": [],
   "source": [
    "class BotHandler(object):\n",
    "    \"\"\"\n",
    "        BotHandler is a class which implements all back-end of the bot.\n",
    "        It has tree main functions:\n",
    "            'get_updates' — checks for new messages\n",
    "            'send_message' – posts new message to user\n",
    "            'get_answer' — computes the most relevant on a user's question\n",
    "    \"\"\"\n",
    "\n",
    "    def __init__(self, token, dialogue_manager):\n",
    "        self.token = token\n",
    "        self.api_url = \"https://api.telegram.org/bot{}/\".format(token)\n",
    "        self.dialogue_manager = dialogue_manager\n",
    "\n",
    "    def get_updates(self, offset=None, timeout=30):\n",
    "        params = {\"timeout\": timeout, \"offset\": offset}\n",
    "        raw_resp = requests.get(urljoin(self.api_url, \"getUpdates\"), params)\n",
    "        try:\n",
    "            resp = raw_resp.json()\n",
    "        except json.decoder.JSONDecodeError as e:\n",
    "            print(\"Failed to parse response {}: {}.\".format(raw_resp.content, e))\n",
    "            return []\n",
    "\n",
    "        if \"result\" not in resp:\n",
    "            return []\n",
    "        return resp[\"result\"]\n",
    "\n",
    "    def send_message(self, chat_id, text):\n",
    "        params = {\"chat_id\": chat_id, \"text\": text}\n",
    "        return requests.post(urljoin(self.api_url, \"sendMessage\"), params)\n",
    "\n",
    "    def get_answer(self, question):\n",
    "        if question == '/start':\n",
    "            return \"Hi, I am your project bot. How can I help you today?\"\n",
    "        return self.dialogue_manager.generate_answer(question)"
   ]
  },
  {
   "cell_type": "code",
   "execution_count": 5,
   "metadata": {},
   "outputs": [],
   "source": [
    "def parse_args():\n",
    "    parser = argparse.ArgumentParser()\n",
    "    parser.add_argument('--token', type=str, default='')\n",
    "    return parser.parse_args()\n",
    "\n",
    "\n",
    "def is_unicode(text):\n",
    "    return len(text) == len(text.encode())\n",
    "\n",
    "\n",
    "class SimpleDialogueManager(object):\n",
    "    \"\"\"\n",
    "    This is the simplest dialogue manager to test the telegram bot.\n",
    "    Your task is to create a more advanced one in dialogue_manager.py.\"\n",
    "    \"\"\"\n",
    "    \n",
    "    def generate_answer(self, question): \n",
    "        return \"Hello, world!\" "
   ]
  },
  {
   "cell_type": "code",
   "execution_count": 6,
   "metadata": {},
   "outputs": [],
   "source": [
    "\n",
    "def main():\n",
    "#     args = parse_args()\n",
    "    token = '759662619:AAFzaK4BW8JNUvpwzPhho8zCWPwoKwtLCGc'\n",
    "    os.environ.setdefault('TELEGRAM_TOKEN','759662619:AAFzaK4BW8JNUvpwzPhho8zCWPwoKwtLCGc')\n",
    "    if not token:\n",
    "        if not \"TELEGRAM_TOKEN\" in os.environ:\n",
    "           # os.environ[\"TELEGRAM_TOKEN\"] = '759662619:AAFzaK4BW8JNUvpwzPhho8zCWPwoKwtLCGc'\n",
    "            print(\"Please, set bot token through --token or TELEGRAM_TOKEN env variable\")\n",
    "            return\n",
    "        token = os.environ[\"TELEGRAM_TOKEN\"]\n",
    "\n",
    "    #################################################################\n",
    "\n",
    "    # Your task is to complete dialogue_manager.py and use your\n",
    "    # advanced DialogueManager instead of SimpleDialogueManager.\n",
    "\n",
    "    # This is the point where you plug it into the Telegram bot.\n",
    "    # Do not forget to import all needed dependencies when you do so.\n",
    "\n",
    "    dialogue_ma = dm.DialogueManager(RESOURCE_PATH)\n",
    "    dialogue_ma.create_chitchat_bot()\n",
    "    bot = BotHandler(token, dialogue_ma)\n",
    "\n",
    "    ###############################################################\n",
    "\n",
    "    print(\"Ready to talk!\")\n",
    "    offset = 0\n",
    "    while True:\n",
    "        updates = bot.get_updates(offset=offset)\n",
    "        for update in updates:\n",
    "            print(\"An update received.\")\n",
    "            if \"message\" in update:\n",
    "                chat_id = update[\"message\"][\"chat\"][\"id\"]\n",
    "                if \"text\" in update[\"message\"]:\n",
    "                    text = update[\"message\"][\"text\"]\n",
    "                    if is_unicode(text):\n",
    "                        print(\"Update content: {}\".format(update))\n",
    "                        bot.send_message(chat_id, bot.get_answer(update[\"message\"][\"text\"]))\n",
    "                    else:\n",
    "                        bot.send_message(chat_id, \"Hmm, you are sending some weird characters to me...\")\n",
    "            offset = max(offset, update['update_id'] + 1)\n",
    "        time.sleep(1)"
   ]
  },
  {
   "cell_type": "code",
   "execution_count": null,
   "metadata": {},
   "outputs": [
    {
     "name": "stdout",
     "output_type": "stream",
     "text": [
      "Loading resources...\n"
     ]
    },
    {
     "name": "stderr",
     "output_type": "stream",
     "text": [
      "/usr/local/lib/python3.5/dist-packages/sklearn/base.py:311: UserWarning: Trying to unpickle estimator LogisticRegression from version 0.20.3 when using version 0.19.1. This might lead to breaking code or invalid results. Use at your own risk.\n",
      "  UserWarning)\n",
      "/usr/local/lib/python3.5/dist-packages/sklearn/base.py:311: UserWarning: Trying to unpickle estimator TfidfTransformer from version 0.20.3 when using version 0.19.1. This might lead to breaking code or invalid results. Use at your own risk.\n",
      "  UserWarning)\n",
      "/usr/local/lib/python3.5/dist-packages/sklearn/base.py:311: UserWarning: Trying to unpickle estimator TfidfVectorizer from version 0.20.3 when using version 0.19.1. This might lead to breaking code or invalid results. Use at your own risk.\n",
      "  UserWarning)\n",
      "/usr/local/lib/python3.5/dist-packages/sklearn/base.py:311: UserWarning: Trying to unpickle estimator LabelBinarizer from version 0.20.3 when using version 0.19.1. This might lead to breaking code or invalid results. Use at your own risk.\n",
      "  UserWarning)\n",
      "/usr/local/lib/python3.5/dist-packages/sklearn/base.py:311: UserWarning: Trying to unpickle estimator OneVsRestClassifier from version 0.20.3 when using version 0.19.1. This might lead to breaking code or invalid results. Use at your own risk.\n",
      "  UserWarning)\n"
     ]
    },
    {
     "name": "stdout",
     "output_type": "stream",
     "text": [
      "[nltk_data] Downloading package stopwords to /root/nltk_data...\n",
      "[nltk_data]   Package stopwords is already up-to-date!\n",
      "[nltk_data] Downloading package punkt to /root/nltk_data...\n",
      "[nltk_data]   Package punkt is already up-to-date!\n",
      "[nltk_data] Downloading package averaged_perceptron_tagger to\n",
      "[nltk_data]     /root/nltk_data...\n",
      "[nltk_data]   Package averaged_perceptron_tagger is already up-to-\n",
      "[nltk_data]       date!\n",
      "Training ai.yml: [####################] 100%\n",
      "Training botprofile.yml: [####################] 100%\n",
      "Training computers.yml: [####################] 100%\n",
      "Training conversations.yml: [####################] 100%\n",
      "Training emotion.yml: [####################] 100%\n",
      "Training food.yml: [####################] 100%\n",
      "Training gossip.yml: [####################] 100%\n",
      "Training greetings.yml: [####################] 100%\n",
      "Training health.yml: [####################] 100%\n",
      "Training history.yml: [####################] 100%\n",
      "Training humor.yml: [####################] 100%\n",
      "Training literature.yml: [####################] 100%\n",
      "Training money.yml: [####################] 100%\n",
      "Training movies.yml: [####################] 100%\n",
      "Training politics.yml: [####################] 100%\n",
      "Training psychology.yml: [####################] 100%\n",
      "Training science.yml: [####################] 100%\n",
      "Training sports.yml: [####################] 100%\n",
      "Training trivia.yml: [####################] 100%\n",
      "Ready to talk!\n"
     ]
    },
    {
     "name": "stderr",
     "output_type": "stream",
     "text": [
      "No value for search_text was available on the provided input\n"
     ]
    },
    {
     "name": "stdout",
     "output_type": "stream",
     "text": [
      "An update received.\n",
      "Update content: {'message': {'chat': {'id': 173290307, 'type': 'private', 'username': 'aliahmadiakbar', 'first_name': 'Ali Akbar Ahmadi Daryab'}, 'message_id': 337, 'from': {'id': 173290307, 'username': 'aliahmadiakbar', 'first_name': 'Ali Akbar Ahmadi Daryab', 'language_code': 'en', 'is_bot': False}, 'date': 1558902163, 'text': 'hi'}, 'update_id': 667231509}\n"
     ]
    },
    {
     "name": "stderr",
     "output_type": "stream",
     "text": [
      "No value for search_text was available on the provided input\n"
     ]
    },
    {
     "name": "stdout",
     "output_type": "stream",
     "text": [
      "An update received.\n",
      "Update content: {'message': {'chat': {'id': 173290307, 'type': 'private', 'username': 'aliahmadiakbar', 'first_name': 'Ali Akbar Ahmadi Daryab'}, 'message_id': 338, 'from': {'id': 173290307, 'username': 'aliahmadiakbar', 'first_name': 'Ali Akbar Ahmadi Daryab', 'language_code': 'en', 'is_bot': False}, 'date': 1558902182, 'text': 'how are you doing'}, 'update_id': 667231510}\n"
     ]
    },
    {
     "name": "stderr",
     "output_type": "stream",
     "text": [
      "No value for search_text was available on the provided input\n"
     ]
    },
    {
     "name": "stdout",
     "output_type": "stream",
     "text": [
      "An update received.\n",
      "Update content: {'message': {'chat': {'id': 173290307, 'type': 'private', 'username': 'aliahmadiakbar', 'first_name': 'Ali Akbar Ahmadi Daryab'}, 'message_id': 341, 'from': {'id': 173290307, 'username': 'aliahmadiakbar', 'first_name': 'Ali Akbar Ahmadi Daryab', 'language_code': 'en', 'is_bot': False}, 'date': 1558902368, 'text': 'Hello'}, 'update_id': 667231511}\n",
      "An update received.\n",
      "Update content: {'message': {'chat': {'id': 173290307, 'type': 'private', 'username': 'aliahmadiakbar', 'first_name': 'Ali Akbar Ahmadi Daryab'}, 'message_id': 343, 'from': {'id': 173290307, 'username': 'aliahmadiakbar', 'first_name': 'Ali Akbar Ahmadi Daryab', 'language_code': 'en', 'is_bot': False}, 'date': 1558902667, 'text': 'write a program to print 10 numbers'}, 'update_id': 667231512}\n"
     ]
    }
   ],
   "source": [
    "if __name__ == \"__main__\":\n",
    "    main()"
   ]
  },
  {
   "cell_type": "markdown",
   "metadata": {},
   "source": []
  },
  {
   "cell_type": "code",
   "execution_count": null,
   "metadata": {},
   "outputs": [],
   "source": []
  },
  {
   "cell_type": "code",
   "execution_count": null,
   "metadata": {},
   "outputs": [],
   "source": []
  },
  {
   "cell_type": "code",
   "execution_count": null,
   "metadata": {},
   "outputs": [],
   "source": []
  }
 ],
 "metadata": {
  "kernelspec": {
   "display_name": "Python 3",
   "language": "python",
   "name": "python3"
  },
  "language_info": {
   "codemirror_mode": {
    "name": "ipython",
    "version": 3
   },
   "file_extension": ".py",
   "mimetype": "text/x-python",
   "name": "python",
   "nbconvert_exporter": "python",
   "pygments_lexer": "ipython3",
   "version": "3.5.2"
  }
 },
 "nbformat": 4,
 "nbformat_minor": 2
}
