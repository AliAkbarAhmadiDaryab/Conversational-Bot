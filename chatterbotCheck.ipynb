{
 "cells": [
  {
   "cell_type": "code",
   "execution_count": 11,
   "metadata": {
    "scrolled": true
   },
   "outputs": [
    {
     "name": "stdout",
     "output_type": "stream",
     "text": [
      "[nltk_data] Downloading package punkt to /root/nltk_data...\n",
      "[nltk_data]   Package punkt is already up-to-date!\n",
      "[nltk_data] Downloading package stopwords to /root/nltk_data...\n",
      "[nltk_data]   Package stopwords is already up-to-date!\n",
      "[nltk_data] Downloading package averaged_perceptron_tagger to\n",
      "[nltk_data]     /root/nltk_data...\n",
      "[nltk_data]   Package averaged_perceptron_tagger is already up-to-\n",
      "[nltk_data]       date!\n",
      "Training greetings.yml: [####################] 100%"
     ]
    },
    {
     "name": "stderr",
     "output_type": "stream",
     "text": [
      "No value for search_text was available on the provided input\n"
     ]
    },
    {
     "name": "stdout",
     "output_type": "stream",
     "text": [
      "\r\n",
      "['Hello', 'how are you']\n",
      "What's up?\n"
     ]
    }
   ],
   "source": [
    "import nltk\n",
    "\n",
    "from chatterbot import ChatBot\n",
    "\n",
    "from chatterbot.trainers import ChatterBotCorpusTrainer\n",
    "\n",
    "\n",
    "chitchat_bot = ChatBot(\"AFGBot\")\n",
    "trainer = ChatterBotCorpusTrainer(chitchat_bot)\n",
    "trainer.train('chatterbot.corpus.english.greetings')\n",
    "print (str([\"Hello\", 'how are you']))\n",
    "x= chitchat_bot.get_response(str([\"Hello\", 'how are you']))\n",
    "print (x)"
   ]
  },
  {
   "cell_type": "code",
   "execution_count": null,
   "metadata": {},
   "outputs": [],
   "source": []
  }
 ],
 "metadata": {
  "kernelspec": {
   "display_name": "Python 3",
   "language": "python",
   "name": "python3"
  },
  "language_info": {
   "codemirror_mode": {
    "name": "ipython",
    "version": 3
   },
   "file_extension": ".py",
   "mimetype": "text/x-python",
   "name": "python",
   "nbconvert_exporter": "python",
   "pygments_lexer": "ipython3",
   "version": "3.5.2"
  }
 },
 "nbformat": 4,
 "nbformat_minor": 2
}
